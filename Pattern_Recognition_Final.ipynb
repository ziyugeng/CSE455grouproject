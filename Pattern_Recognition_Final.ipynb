{
  "nbformat": 4,
  "nbformat_minor": 0,
  "metadata": {
    "colab": {
      "provenance": []
    },
    "kernelspec": {
      "name": "python3",
      "display_name": "Python 3"
    },
    "language_info": {
      "name": "python"
    }
  },
  "cells": [
    {
      "cell_type": "markdown",
      "source": [
        "1. Load all the necessary functions"
      ],
      "metadata": {
        "id": "LJLks1ivtlPN"
      }
    },
    {
      "cell_type": "code",
      "execution_count": null,
      "metadata": {
        "id": "TfErQcl66_yl"
      },
      "outputs": [],
      "source": [
        "import torch\n",
        "from torch import nn\n",
        "from torch.utils.data import DataLoader\n",
        "from torchvision import datasets\n",
        "from torchvision.transforms import ToTensor\n",
        "from sklearn.model_selection import train_test_split\n",
        "import requests"
      ]
    },
    {
      "cell_type": "markdown",
      "source": [
        "2. import CNN/Daily Mail dataset, from https://huggingface.co/datasets/yhavinga/cnn_dailymail_dutch"
      ],
      "metadata": {
        "id": "bbWP2rA3uDUm"
      }
    },
    {
      "cell_type": "code",
      "source": [
        "# follow the instruction from https://huggingface.co/docs/datasets-server/quick_start\n",
        "\n",
        "API_URL = \"https://datasets-server.huggingface.co/splits?dataset=yhavinga%2Fcnn_dailymail_dutch\"  # contains train, val, and test\n",
        "def query():\n",
        "    response = requests.get(API_URL)\n",
        "    return response.json()\n",
        "data = query()\n",
        "print(data)\n",
        "\n",
        "# train\n",
        "API_URL = \"https://datasets-server.huggingface.co/rows?dataset=yhavinga%2Fcnn_dailymail_dutch&config=3.0.0&split=train&offset=0&limit=100\"  # train\n",
        "def train_query():\n",
        "    response = requests.get(API_URL)\n",
        "    return response.json()\n",
        "train_data = train_query()\n",
        "print(train_data)\n",
        "\n",
        "# val\n",
        "API_URL = \"https://datasets-server.huggingface.co/rows?dataset=yhavinga%2Fcnn_dailymail_dutch&config=3.0.0&split=validation&offset=0&limit=100\"  # validation\n",
        "def val_query():\n",
        "    response = requests.get(API_URL)\n",
        "    return response.json()\n",
        "val_data = val_query()\n",
        "print(val_data)\n",
        "\n",
        "# test\n",
        "API_URL = \"https://datasets-server.huggingface.co/rows?dataset=yhavinga%2Fcnn_dailymail_dutch&config=3.0.0&split=test&offset=0&limit=100\"  # test\n",
        "def test_query():\n",
        "    response = requests.get(API_URL)\n",
        "    return response.json()\n",
        "test_data = test_query()\n",
        "print(test_data)"
      ],
      "metadata": {
        "id": "1-U7rEkVuDnF"
      },
      "execution_count": null,
      "outputs": []
    }
  ]
}